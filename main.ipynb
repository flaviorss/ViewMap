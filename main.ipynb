{
 "cells": [
  {
   "metadata": {},
   "cell_type": "markdown",
   "source": [
    "# Trabalho Prático 01 - Computação Gráfica\n",
    "Dupla: Flávio Santos & Pedro Gabriel\n",
    "### Pré-Requisitos: \n",
    "<h5>Para execução do código é necessário preparar o ambiente, realizando a instalação do interpretador <a href=\"https://www.python.org/downloads/\">python</a>, sendo recomentado as versões superiores a 3.7.</h5> \n",
    "<h3> Importação das Bibliotecas: </h3>\n",
    "As bibliotecas 'tkinter' e 'xml.etree.ElementTree' são utilizadas para manipulação gráfica e carregamento dos dados XML respectivamente, enquanto 'abc' permite a criação de classes abstratas."
   ]
  },
  {
   "metadata": {
    "ExecuteTime": {
     "end_time": "2024-11-10T20:10:50.132259Z",
     "start_time": "2024-11-10T20:10:50.126028Z"
    }
   },
   "cell_type": "code",
   "source": [
    "import os\n",
    "import string\n",
    "import tkinter as tk\n",
    "import xml.etree.ElementTree as ET\n",
    "from abc import ABC, abstractmethod\n",
    "from tkinter import filedialog"
   ],
   "outputs": [],
   "execution_count": 31
  },
  {
   "metadata": {},
   "cell_type": "markdown",
   "source": [
    "<h3> Classes: </h3>\n",
    "Aqui são definidas, a classe abstrata 'forma' que define as estruturas básicas para as formas geométrica que serão representadas no visualizador. Além disso, as formas tem o método desenhar que já passam pela transformada de viewport e desenham sua representação no canvas"
   ]
  },
  {
   "metadata": {
    "ExecuteTime": {
     "end_time": "2024-11-10T20:10:50.176569Z",
     "start_time": "2024-11-10T20:10:50.166175Z"
    }
   },
   "cell_type": "code",
   "source": [
    "class Forma(ABC):\n",
    "    @abstractmethod\n",
    "    def desenhar(self, canvas, viewport, window, cor: string = \"black\"): pass\n",
    "\n",
    "\n",
    "class Ponto(Forma):\n",
    "    def __init__(self, x: float, y: float):\n",
    "        self.x = x\n",
    "        self.y = y\n",
    "\n",
    "    def desenhar(self, canvas, viewport, window, cor: string = \"black\"):\n",
    "        aux = transformada_viewport(Ponto(self.x, self.y), window, viewport)\n",
    "        canvas.create_oval(aux.x - 1, aux.y - 1, aux.x + 1, aux.y + 1, fill=cor)\n",
    "\n",
    "\n",
    "class Reta(Forma):\n",
    "    def __init__(self, ponto1: Ponto, ponto2: Ponto):\n",
    "        self.p1 = ponto1\n",
    "        self.p2 = ponto2\n",
    "\n",
    "    def desenhar(self, canvas, viewport, window, cor: string = \"blue\"):\n",
    "        aux_p1 = transformada_viewport(self.p1, window, viewport)\n",
    "        aux_p2 = transformada_viewport(self.p2, window, viewport)\n",
    "        canvas.create_line(aux_p1.x, aux_p1.y, aux_p2.x, aux_p2.y, fill=cor)\n",
    "\n",
    "\n",
    "class Poligono(Forma):\n",
    "    def __init__(self, pontos: list[Ponto]):\n",
    "        self.pontos = pontos\n",
    "\n",
    "    def desenhar(self, canvas, viewport, window, cor: string = \"red\"):\n",
    "        coordenadas = []\n",
    "        for ponto in self.pontos:\n",
    "            aux_ponto = transformada_viewport(ponto, window, viewport)\n",
    "            coordenadas.append(aux_ponto.x)\n",
    "            coordenadas.append(aux_ponto.y)\n",
    "        canvas.create_polygon(coordenadas, fill=\"\", outline=cor, width=1)"
   ],
   "outputs": [],
   "execution_count": 32
  },
  {
   "metadata": {},
   "cell_type": "markdown",
   "source": [
    "<h3> Classe Recorte: </h3>\n",
    "A classe recorte é utilizada para definiar a área da window e viewport."
   ]
  },
  {
   "metadata": {
    "ExecuteTime": {
     "end_time": "2024-11-10T20:10:50.203251Z",
     "start_time": "2024-11-10T20:10:50.194377Z"
    }
   },
   "cell_type": "code",
   "source": [
    "class Recorte:\n",
    "    def __init__(self, ponto_min: Ponto, ponto_max: Ponto):\n",
    "        self.min = ponto_min\n",
    "        self.max = ponto_max\n",
    "\n",
    "    def get_altura(self):\n",
    "        return self.max.y - self.min.y\n",
    "\n",
    "    def get_largura(self):\n",
    "        return self.max.x - self.min.x"
   ],
   "outputs": [],
   "execution_count": 33
  },
  {
   "metadata": {},
   "cell_type": "markdown",
   "source": [
    "<h3> Leitura do Arquivo XML: </h3>\n",
    "Logo abaixo, temos as funções responsáveis por realizar a leitura do dados (window, viewport, pontos, retas e poligonos), contidos no XML."
   ]
  },
  {
   "metadata": {
    "ExecuteTime": {
     "end_time": "2024-11-10T20:10:50.229771Z",
     "start_time": "2024-11-10T20:10:50.221154Z"
    }
   },
   "cell_type": "code",
   "source": [
    "def ler_window(arquivo) -> Recorte:\n",
    "    root = ET.parse(arquivo).getroot()\n",
    "    window = root.find(\"window\")\n",
    "    if window is None:\n",
    "        return None\n",
    "    wmin = window.find(\"wmin\")\n",
    "    wmax = window.find(\"wmax\")\n",
    "    return Recorte(Ponto(float(wmin.attrib[\"x\"]), float(wmin.attrib[\"y\"])),\n",
    "                   Ponto(float(wmax.attrib[\"x\"]), float(wmax.attrib[\"y\"])))\n",
    "\n",
    "\n",
    "def ler_view_port(arquivo) -> Recorte:\n",
    "    root = ET.parse(arquivo).getroot()\n",
    "    viewport = root.find(\"viewport\")\n",
    "    if viewport is None:\n",
    "        return None\n",
    "    vpmin = viewport.find(\"vpmin\")\n",
    "    vpmax = viewport.find(\"vpmax\")\n",
    "    return Recorte(Ponto(float(vpmin.attrib[\"x\"]), float(vpmin.attrib[\"y\"])),\n",
    "                   Ponto(float(vpmax.attrib[\"x\"]), float(vpmax.attrib[\"y\"])))\n",
    "\n",
    "\n",
    "def ler_formas(arquivo) -> list[Forma]:\n",
    "    root = ET.parse(arquivo).getroot()\n",
    "    formas = []\n",
    "    for child in root:\n",
    "        match child.tag:\n",
    "            case \"ponto\":\n",
    "                formas.append(Ponto(float(child.attrib[\"x\"]), float(child.attrib[\"y\"])))\n",
    "            case \"reta\":\n",
    "                pontos: list[Ponto] = []\n",
    "                for ponto in child:\n",
    "                    pontos.append(Ponto(float(ponto.attrib[\"x\"]), float(ponto.attrib[\"y\"])))\n",
    "                formas.append(Reta(pontos[0], pontos[1]))\n",
    "            case \"poligono\":\n",
    "                pontos: list[Ponto] = []\n",
    "                for ponto in child:\n",
    "                    pontos.append(Ponto(float(ponto.attrib[\"x\"]), float(ponto.attrib[\"y\"])))\n",
    "                formas.append(Poligono(pontos))\n",
    "    return formas"
   ],
   "outputs": [],
   "execution_count": 34
  },
  {
   "metadata": {},
   "cell_type": "markdown",
   "source": [
    "<h3> Transformada de Viewport: </h3>\n",
    "Abaixo temos a função responsável por realizar o cálculo da transformada de Viewport, que é definido como uma transformação linear simples entre a window e a viewport. Para encontrar o valor de x na viewport, x.vp, e o valor de y na viewport, y.vp, realizamos as seguintes transformação lineares:<br>\n",
    "$$\n",
    "x_{vp} = \\frac{x_w - x_{wmin}}{x_{wmax} - x_{wmin}} \\cdot (x_{vpmax} - x_{vpmin})\n",
    "$$\n",
    "\n",
    "$$\n",
    "y_{vp} = \\left( 1 - \\frac{y_w - y_{wmin}}{y_{wmax} - y_{wmin}} \\right) \\cdot (y_{vpmax} - y_{vpmin})\n",
    "$$"
   ]
  },
  {
   "metadata": {
    "ExecuteTime": {
     "end_time": "2024-11-10T20:10:50.250215Z",
     "start_time": "2024-11-10T20:10:50.241133Z"
    }
   },
   "cell_type": "code",
   "source": [
    "def transformada_viewport(ponto: Ponto, window, viewport):\n",
    "    x_viewport = ((ponto.x - window.min.x) / (window.max.x - window.min.x)) * (\n",
    "            viewport.max.x - viewport.min.x)\n",
    "    y_viewport = (1 - ((ponto.y - window.min.y) / (window.max.y - window.min.y))) * (\n",
    "            viewport.max.y - viewport.min.y)\n",
    "    return Ponto(x_viewport, y_viewport)"
   ],
   "outputs": [],
   "execution_count": 35
  },
  {
   "metadata": {},
   "cell_type": "markdown",
   "source": [
    "<h3> Classe Visulizador: </h3>\n",
    "A classe 'Visualizador' representa a aplicação para visualizar objetos 2D, com as funcionalidades de abrir e salvar aquivos, movimentar a window no mundo com as teclas direcionais, além de visualizar as formas geometricas lidas em uma janela principal e um minimapa. Ela também possui iniciamente alguns atributos próprios que seram utilizados.\n",
    "<h4> > Método _init_: </h4>\n",
    "Este é o construtor da classe `Visualizador`. Ele configura a interface gráfica, incluindo o menu, o `canvas` principal e o minimapa, além de definir eventos do teclado para movimentar a janela de visualização.\n",
    "<h4> > Método Mover Window: </h4>\n",
    "Esse é o método responsável por permitir movimentar a window no mundo utilizando as teclas direcionais do teclado(cima, baixo, esquerda, direita). A partir da tecla de direção de movimento selecionada é realizado os ajustes das coordenadas min e max da window e logo após, as funções para redesenhar a viewport e o minipama são chamados. \n",
    "<h4> > Métodos Abrir e Carregar Arquivo: </h4>\n",
    "Temos os métodos 'abrir_arquivo', responsável por abrir a janela de diálogo para selecionar o arquivo XML desejado, e 'carregar_arquivo', responsável por ler e interpretar os dados das formas geométricas e das configurações de `window` e `viewport` contidos no arquivo XML.\n",
    "<h4> > Métodos de Configuração do Minimapa : </h4>\n",
    "São os métodos 'criar_recorte_window_minimapa', que cria e retorna um objeto `Recorte` que representa a área de visualização window ampliada dado uma escala, para ser exibida no minimapa e 'criar_caixa_minimapa', responsável por criar uma retângulo que delimita a área visível da window no minimapa.\n",
    "<h4> > Desenhar Viewport e Minimapa: </h4>\n",
    "Após obter os dados das formas geométricas e das configurações de window e viewport do arquivo XML, as formas geométricas são desenhadas na viewport principal do canvas e no minimapa. Em ambos os métodos sempre se verifica se o 'canvas' ou 'canvas_minimap' já existem para os destróir e atualizar o conteúdo.\n",
    "<h4> > Salvar Dados: </h4>\n",
    "Este método salva as coordenadas da window em um novo arquivo XML 'output.xml' seguindo o mesmo padrão do arquivo de entrada, que pode em seguida ser utilizado como arquivo de entrada."
   ]
  },
  {
   "metadata": {
    "ExecuteTime": {
     "end_time": "2024-11-10T20:10:50.308162Z",
     "start_time": "2024-11-10T20:10:50.289360Z"
    }
   },
   "cell_type": "code",
   "source": [
    "class Visualizador:\n",
    "    window: Recorte\n",
    "    viewport: Recorte\n",
    "    window_minimapa: Recorte\n",
    "    viewport_minimapa: Recorte\n",
    "    formas: list[Forma]\n",
    "    nome_arquivo: string\n",
    "\n",
    "    def __init__(self, root):\n",
    "        self.root = root\n",
    "        self.root.title(\"Visualizador de Objetos 2D\")\n",
    "\n",
    "        # Configurar o menu\n",
    "        menu = tk.Menu(root)\n",
    "        root.config(menu=menu)\n",
    "        file_menu = tk.Menu(menu)\n",
    "        menu.add_cascade(label=\"Arquivo\", menu=file_menu)\n",
    "        file_menu.add_command(label=\"Abrir\", command=self.abrir_arquivo)\n",
    "        file_menu.add_command(label=\"Salvar\", command=self.salvar_dados)\n",
    "\n",
    "        # Frame principal para conter canvas e minimapa\n",
    "        self.frame_principal = tk.Frame(root)\n",
    "        self.frame_principal.pack(fill=\"both\", expand=True)\n",
    "\n",
    "        # Canvas da Viewport principal\n",
    "        self.canvas = tk.Canvas(self.frame_principal, width=800, height=600, bg=\"white\")\n",
    "        self.canvas.pack(side=\"left\", fill=\"both\", expand=True)\n",
    "\n",
    "        # Canvas da Minimap principal\n",
    "        self.canvas_minimap = tk.Canvas(self.frame_principal, width=160, height=120, bg=\"lightgrey\")\n",
    "        self.canvas_minimap.pack(side=\"right\", padx=10, pady=10)\n",
    "        self.viewport_minimapa = Recorte(Ponto(0, 0), Ponto(160, 120))\n",
    "\n",
    "        self.root.bind(\"<Up>\", lambda event: self.mover_window(\"up\"))\n",
    "        self.root.bind(\"<Down>\", lambda event: self.mover_window(\"down\"))\n",
    "        self.root.bind(\"<Left>\", lambda event: self.mover_window(\"left\"))\n",
    "        self.root.bind(\"<Right>\", lambda event: self.mover_window(\"right\"))\n",
    "\n",
    "    def mover_window(self, direcao):\n",
    "        deslocamento = 1\n",
    "\n",
    "        if direcao == \"up\":\n",
    "            self.window.min.y += deslocamento\n",
    "            self.window.max.y += deslocamento\n",
    "        elif direcao == \"down\":\n",
    "            self.window.min.y -= deslocamento\n",
    "            self.window.max.y -= deslocamento\n",
    "        elif direcao == \"left\":\n",
    "            self.window.min.x -= deslocamento\n",
    "            self.window.max.x -= deslocamento\n",
    "        elif direcao == \"right\":\n",
    "            self.window.min.x += deslocamento\n",
    "            self.window.max.x += deslocamento\n",
    "\n",
    "        self.desenhar_viewport()\n",
    "        self.desenhar_minimapa()\n",
    "\n",
    "    def abrir_arquivo(self):\n",
    "        caminho_arquivo = filedialog.askopenfilename(\n",
    "            initialdir=os.getcwd(),  # Diretório atual\n",
    "            title=\"Selecione um arquivo XML\",\n",
    "            filetypes=((\"Arquivos XML\", \"*.xml\"), (\"Todos os arquivos\", \"*.*\"))\n",
    "        )\n",
    "\n",
    "        self.nome_arquivo = caminho_arquivo\n",
    "\n",
    "        if caminho_arquivo:\n",
    "            self.carregar_arquivo(caminho_arquivo)\n",
    "        pass\n",
    "\n",
    "    def carregar_arquivo(self, caminho):\n",
    "        self.window = ler_window(caminho)\n",
    "        self.viewport = ler_view_port(caminho)\n",
    "        self.formas = ler_formas(caminho)\n",
    "        self.window_minimapa = self.criar_recorte_window_minimapa(escala=1)\n",
    "        self.desenhar_minimapa()\n",
    "        self.desenhar_viewport()\n",
    "        pass\n",
    "\n",
    "    def criar_recorte_window_minimapa(self, escala) -> Recorte:\n",
    "        p_min = Ponto((self.window.min.x - self.window.get_largura() * escala),\n",
    "                      (self.window.min.y - self.window.get_altura() * escala))\n",
    "        p_max = Ponto((self.window.max.x + self.window.get_largura() * escala),\n",
    "                      (self.window.max.y + self.window.get_altura() * escala))\n",
    "        return Recorte(p_min, p_max)\n",
    "\n",
    "    def criar_caixa_minimapa(self) -> Poligono:\n",
    "        p1 = Ponto(self.window.min.x, self.window.min.y)\n",
    "        p2 = Ponto(self.window.min.x + self.window.get_largura(), self.window.min.y)\n",
    "        p3 = Ponto(self.window.max.x, self.window.max.y)\n",
    "        p4 = Ponto(self.window.min.x, self.window.min.y + self.window.get_altura())\n",
    "        return Poligono([p1, p2, p3, p4])\n",
    "\n",
    "    def desenhar_viewport(self):\n",
    "        if hasattr(self, 'canvas'):\n",
    "            self.canvas.destroy()\n",
    "\n",
    "        self.canvas = tk.Canvas(self.frame_principal, width=self.viewport.get_largura(),\n",
    "                                height=self.viewport.get_altura(), bg=\"white\")\n",
    "        self.canvas.pack(side=\"left\", fill=\"both\", expand=True)\n",
    "\n",
    "        for forma in self.formas:\n",
    "            forma.desenhar(self.canvas, self.viewport, self.window)\n",
    "        pass\n",
    "\n",
    "    def desenhar_minimapa(self):\n",
    "        if hasattr(self, 'canvas_minimap'):\n",
    "            self.canvas_minimap.destroy()\n",
    "\n",
    "        self.canvas_minimap = tk.Canvas(self.frame_principal, width=160, height=120, bg=\"lightgrey\")\n",
    "        self.canvas_minimap.pack(side=\"right\", padx=10, pady=10)\n",
    "\n",
    "        for forma in self.formas:\n",
    "            forma.desenhar(self.canvas_minimap, self.viewport_minimapa, self.window_minimapa)\n",
    "        pass\n",
    "        caixa_minimapa = self.criar_caixa_minimapa()\n",
    "        caixa_minimapa.desenhar(self.canvas_minimap, self.viewport_minimapa, self.window_minimapa, cor=\"gray\")\n",
    "\n",
    "    def salvar_dados(self):\n",
    "        if self.nome_arquivo is None:\n",
    "            return None\n",
    "        tree = ET.parse(self.nome_arquivo)\n",
    "        root = tree.getroot()\n",
    "        window = root.find(\"window\")\n",
    "        if window is None:\n",
    "            return None\n",
    "        wmin = window.find(\"wmin\")\n",
    "        wmin.set(\"x\", f\"{self.window.min.x}\")\n",
    "        wmin.set(\"y\", f\"{self.window.min.y}\")\n",
    "        wmax = window.find(\"wmax\")\n",
    "        wmax.set(\"x\", f\"{self.window.max.x}\")\n",
    "        wmax.set(\"y\", f\"{self.window.max.y}\")\n",
    "        tree.write('output.xml')"
   ],
   "outputs": [],
   "execution_count": 36
  },
  {
   "metadata": {},
   "cell_type": "markdown",
   "source": "<h3> Main: </h3>\n"
  },
  {
   "metadata": {
    "ExecuteTime": {
     "end_time": "2024-11-10T20:11:17.368785Z",
     "start_time": "2024-11-10T20:10:50.325707Z"
    }
   },
   "cell_type": "code",
   "source": [
    "if __name__ == '__main__':\n",
    "    root = tk.Tk()\n",
    "    app = Visualizador(root)\n",
    "    root.mainloop()\n"
   ],
   "outputs": [],
   "execution_count": 37
  }
 ],
 "metadata": {
  "kernelspec": {
   "display_name": "Python 3",
   "language": "python",
   "name": "python3"
  },
  "language_info": {
   "name": "python",
   "version": "3.13.0"
  }
 },
 "nbformat": 4,
 "nbformat_minor": 2
}
